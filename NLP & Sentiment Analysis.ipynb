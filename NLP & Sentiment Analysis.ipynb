{
  "cells": [
    {
      "cell_type": "markdown",
      "metadata": {
        "id": "UwGQJ4eBZUw-"
      },
      "source": [
        "## NLP & Sentiment Analysis"
      ]
    },
    {
      "cell_type": "code",
      "execution_count": 1,
      "metadata": {
        "id": "KgyDWwiuCLv5"
      },
      "outputs": [],
      "source": [
        "# Import libraries\n",
        "import pandas as pd\n",
        "import numpy as np\n",
        "import json\n",
        "import heapq\n",
        "import matplotlib.pyplot as plt\n",
        "import nltk\n",
        "from nltk.corpus import stopwords\n",
        "from nltk.stem import PorterStemmer\n",
        "from nltk.tokenize import word_tokenize\n",
        "from sklearn.feature_extraction.text import TfidfVectorizer\n",
        "from sklearn.model_selection import train_test_split\n",
        "from sklearn.linear_model import LogisticRegression\n",
        "from sklearn.ensemble import RandomForestClassifier\n",
        "from sklearn.svm import SVC\n",
        "from sklearn.model_selection import GridSearchCV\n",
        "from sklearn.metrics import confusion_matrix\n",
        "from sklearn.metrics import classification_report\n",
        "from sklearn.metrics import accuracy_score\n",
        "from sklearn.metrics import roc_auc_score\n",
        "from sklearn.metrics import roc_curve\n",
        "from tqdm import tqdm\n",
        "tqdm.pandas()\n",
        "import os"
      ]
    },
    {
      "cell_type": "markdown",
      "metadata": {
        "id": "w66gJnmPZOK2"
      },
      "source": [
        "# Data Preparation"
      ]
    },
    {
      "cell_type": "code",
      "execution_count": 2,
      "metadata": {
        "colab": {
          "base_uri": "https://localhost:8080/",
          "height": 293
        },
        "id": "2CZ-aGVREBER",
        "outputId": "9c901632-e586-4da9-f43d-047f62f3d98f"
      },
      "outputs": [
        {
          "data": {
            "text/html": [
              "<div>\n",
              "<style scoped>\n",
              "    .dataframe tbody tr th:only-of-type {\n",
              "        vertical-align: middle;\n",
              "    }\n",
              "\n",
              "    .dataframe tbody tr th {\n",
              "        vertical-align: top;\n",
              "    }\n",
              "\n",
              "    .dataframe thead th {\n",
              "        text-align: right;\n",
              "    }\n",
              "</style>\n",
              "<table border=\"1\" class=\"dataframe\">\n",
              "  <thead>\n",
              "    <tr style=\"text-align: right;\">\n",
              "      <th></th>\n",
              "      <th>reviewerID</th>\n",
              "      <th>asin</th>\n",
              "      <th>reviewerName</th>\n",
              "      <th>helpful</th>\n",
              "      <th>reviewText</th>\n",
              "      <th>overall</th>\n",
              "      <th>summary</th>\n",
              "      <th>unixReviewTime</th>\n",
              "      <th>reviewTime</th>\n",
              "    </tr>\n",
              "  </thead>\n",
              "  <tbody>\n",
              "    <tr>\n",
              "      <th>0</th>\n",
              "      <td>ALC5GH8CAMAI7</td>\n",
              "      <td>159985130X</td>\n",
              "      <td>AnnN</td>\n",
              "      <td>[1, 1]</td>\n",
              "      <td>This is a great little gadget to have around. ...</td>\n",
              "      <td>5.0</td>\n",
              "      <td>Handy little gadget</td>\n",
              "      <td>1294185600</td>\n",
              "      <td>01 5, 2011</td>\n",
              "    </tr>\n",
              "    <tr>\n",
              "      <th>1</th>\n",
              "      <td>AHKSURW85PJUE</td>\n",
              "      <td>159985130X</td>\n",
              "      <td>AZ buyer \"AZ buyer\"</td>\n",
              "      <td>[1, 1]</td>\n",
              "      <td>I would recommend this for a travel magnifier ...</td>\n",
              "      <td>4.0</td>\n",
              "      <td>Small &amp; may need to encourage battery</td>\n",
              "      <td>1329523200</td>\n",
              "      <td>02 18, 2012</td>\n",
              "    </tr>\n",
              "    <tr>\n",
              "      <th>2</th>\n",
              "      <td>A38RMU1Y5TDP9</td>\n",
              "      <td>159985130X</td>\n",
              "      <td>Bob Tobias \"Robert Tobias\"</td>\n",
              "      <td>[75, 77]</td>\n",
              "      <td>What I liked was the quality of the lens and t...</td>\n",
              "      <td>4.0</td>\n",
              "      <td>Very good but not great</td>\n",
              "      <td>1275955200</td>\n",
              "      <td>06 8, 2010</td>\n",
              "    </tr>\n",
              "    <tr>\n",
              "      <th>3</th>\n",
              "      <td>A1XZUG7DFXXOS4</td>\n",
              "      <td>159985130X</td>\n",
              "      <td>Cat lover</td>\n",
              "      <td>[56, 60]</td>\n",
              "      <td>Love the Great point light pocket magnifier!  ...</td>\n",
              "      <td>4.0</td>\n",
              "      <td>great addition to your purse</td>\n",
              "      <td>1202428800</td>\n",
              "      <td>02 8, 2008</td>\n",
              "    </tr>\n",
              "    <tr>\n",
              "      <th>4</th>\n",
              "      <td>A1MS3M7M7AM13X</td>\n",
              "      <td>159985130X</td>\n",
              "      <td>Cricketoes</td>\n",
              "      <td>[1, 1]</td>\n",
              "      <td>This is very nice. You pull out on the magnifi...</td>\n",
              "      <td>5.0</td>\n",
              "      <td>Very nice and convenient.</td>\n",
              "      <td>1313452800</td>\n",
              "      <td>08 16, 2011</td>\n",
              "    </tr>\n",
              "  </tbody>\n",
              "</table>\n",
              "</div>"
            ],
            "text/plain": [
              "       reviewerID        asin                reviewerName   helpful  \\\n",
              "0   ALC5GH8CAMAI7  159985130X                        AnnN    [1, 1]   \n",
              "1   AHKSURW85PJUE  159985130X         AZ buyer \"AZ buyer\"    [1, 1]   \n",
              "2   A38RMU1Y5TDP9  159985130X  Bob Tobias \"Robert Tobias\"  [75, 77]   \n",
              "3  A1XZUG7DFXXOS4  159985130X                   Cat lover  [56, 60]   \n",
              "4  A1MS3M7M7AM13X  159985130X                  Cricketoes    [1, 1]   \n",
              "\n",
              "                                          reviewText  overall  \\\n",
              "0  This is a great little gadget to have around. ...      5.0   \n",
              "1  I would recommend this for a travel magnifier ...      4.0   \n",
              "2  What I liked was the quality of the lens and t...      4.0   \n",
              "3  Love the Great point light pocket magnifier!  ...      4.0   \n",
              "4  This is very nice. You pull out on the magnifi...      5.0   \n",
              "\n",
              "                                 summary  unixReviewTime   reviewTime  \n",
              "0                    Handy little gadget      1294185600   01 5, 2011  \n",
              "1  Small & may need to encourage battery      1329523200  02 18, 2012  \n",
              "2                Very good but not great      1275955200   06 8, 2010  \n",
              "3           great addition to your purse      1202428800   02 8, 2008  \n",
              "4              Very nice and convenient.      1313452800  08 16, 2011  "
            ]
          },
          "execution_count": 2,
          "metadata": {},
          "output_type": "execute_result"
        }
      ],
      "source": [
        "# convert json file into dataframe\n",
        "\n",
        "reviews = []\n",
        "for line in open('reviews_Health_and_Personal_Care_5.json', 'r'):\n",
        "    reviews.append(json.loads(line))\n",
        "\n",
        "reviews_df = pd.DataFrame(reviews)\n",
        "\n",
        "reviews_df.head()"
      ]
    },
    {
      "cell_type": "code",
      "execution_count": 3,
      "metadata": {
        "colab": {
          "base_uri": "https://localhost:8080/",
          "height": 206
        },
        "id": "I91KJFg8EBRi",
        "outputId": "e2aa6434-5fcb-4969-8c04-e167808d357e"
      },
      "outputs": [
        {
          "data": {
            "text/html": [
              "<div>\n",
              "<style scoped>\n",
              "    .dataframe tbody tr th:only-of-type {\n",
              "        vertical-align: middle;\n",
              "    }\n",
              "\n",
              "    .dataframe tbody tr th {\n",
              "        vertical-align: top;\n",
              "    }\n",
              "\n",
              "    .dataframe thead th {\n",
              "        text-align: right;\n",
              "    }\n",
              "</style>\n",
              "<table border=\"1\" class=\"dataframe\">\n",
              "  <thead>\n",
              "    <tr style=\"text-align: right;\">\n",
              "      <th></th>\n",
              "      <th>reviewerID</th>\n",
              "      <th>reviewText</th>\n",
              "      <th>overall</th>\n",
              "    </tr>\n",
              "  </thead>\n",
              "  <tbody>\n",
              "    <tr>\n",
              "      <th>0</th>\n",
              "      <td>ALC5GH8CAMAI7</td>\n",
              "      <td>This is a great little gadget to have around. ...</td>\n",
              "      <td>5.0</td>\n",
              "    </tr>\n",
              "    <tr>\n",
              "      <th>1</th>\n",
              "      <td>AHKSURW85PJUE</td>\n",
              "      <td>I would recommend this for a travel magnifier ...</td>\n",
              "      <td>4.0</td>\n",
              "    </tr>\n",
              "    <tr>\n",
              "      <th>2</th>\n",
              "      <td>A38RMU1Y5TDP9</td>\n",
              "      <td>What I liked was the quality of the lens and t...</td>\n",
              "      <td>4.0</td>\n",
              "    </tr>\n",
              "    <tr>\n",
              "      <th>3</th>\n",
              "      <td>A1XZUG7DFXXOS4</td>\n",
              "      <td>Love the Great point light pocket magnifier!  ...</td>\n",
              "      <td>4.0</td>\n",
              "    </tr>\n",
              "    <tr>\n",
              "      <th>4</th>\n",
              "      <td>A1MS3M7M7AM13X</td>\n",
              "      <td>This is very nice. You pull out on the magnifi...</td>\n",
              "      <td>5.0</td>\n",
              "    </tr>\n",
              "  </tbody>\n",
              "</table>\n",
              "</div>"
            ],
            "text/plain": [
              "       reviewerID                                         reviewText  overall\n",
              "0   ALC5GH8CAMAI7  This is a great little gadget to have around. ...      5.0\n",
              "1   AHKSURW85PJUE  I would recommend this for a travel magnifier ...      4.0\n",
              "2   A38RMU1Y5TDP9  What I liked was the quality of the lens and t...      4.0\n",
              "3  A1XZUG7DFXXOS4  Love the Great point light pocket magnifier!  ...      4.0\n",
              "4  A1MS3M7M7AM13X  This is very nice. You pull out on the magnifi...      5.0"
            ]
          },
          "execution_count": 3,
          "metadata": {},
          "output_type": "execute_result"
        }
      ],
      "source": [
        "# Extract only relevant data from the original dataset\n",
        "review_data = reviews_df[[\"reviewerID\",\"reviewText\",\"overall\"]]\n",
        "review_data.head()"
      ]
    },
    {
      "cell_type": "code",
      "execution_count": 5,
      "metadata": {
        "colab": {
          "base_uri": "https://localhost:8080/"
        },
        "id": "IWVYea4zEBZl",
        "outputId": "63f94b3c-6388-4859-a439-9928e35b36b9"
      },
      "outputs": [
        {
          "name": "stdout",
          "output_type": "stream",
          "text": [
            "<class 'pandas.core.frame.DataFrame'>\n",
            "RangeIndex: 346355 entries, 0 to 346354\n",
            "Data columns (total 3 columns):\n",
            " #   Column      Non-Null Count   Dtype  \n",
            "---  ------      --------------   -----  \n",
            " 0   reviewerID  346355 non-null  object \n",
            " 1   reviewText  346355 non-null  object \n",
            " 2   overall     346355 non-null  float64\n",
            "dtypes: float64(1), object(2)\n",
            "memory usage: 7.9+ MB\n"
          ]
        }
      ],
      "source": [
        "review_data.info()"
      ]
    },
    {
      "cell_type": "markdown",
      "metadata": {
        "id": "EE9rHcufV3nz"
      },
      "source": [
        "Refine the text data"
      ]
    },
    {
      "cell_type": "code",
      "execution_count": 6,
      "metadata": {
        "colab": {
          "base_uri": "https://localhost:8080/"
        },
        "id": "aXGJyr1VHjnH",
        "outputId": "06546ea7-db7e-4f16-a5c3-178993f474c8"
      },
      "outputs": [
        {
          "name": "stderr",
          "output_type": "stream",
          "text": [
            "[nltk_data] Downloading package punkt to /Users/jihyunkim/nltk_data...\n",
            "[nltk_data]   Unzipping tokenizers/punkt.zip.\n"
          ]
        },
        {
          "data": {
            "text/plain": [
              "True"
            ]
          },
          "execution_count": 6,
          "metadata": {},
          "output_type": "execute_result"
        }
      ],
      "source": [
        "nltk.download('punkt')"
      ]
    },
    {
      "cell_type": "code",
      "execution_count": 7,
      "metadata": {
        "colab": {
          "base_uri": "https://localhost:8080/"
        },
        "id": "zg17QP-kHjuI",
        "outputId": "55253207-415c-4ed5-fbde-f182e52fe371"
      },
      "outputs": [
        {
          "name": "stderr",
          "output_type": "stream",
          "text": [
            "/var/folders/qk/cp6vzsf56nsb8yd0n4typwx00000gn/T/ipykernel_42025/2739571752.py:2: SettingWithCopyWarning: \n",
            "A value is trying to be set on a copy of a slice from a DataFrame.\n",
            "Try using .loc[row_indexer,col_indexer] = value instead\n",
            "\n",
            "See the caveats in the documentation: https://pandas.pydata.org/pandas-docs/stable/user_guide/indexing.html#returning-a-view-versus-a-copy\n",
            "  review_data[\"reviewText\"]=review_data[\"reviewText\"].astype(str).str.lower()\n"
          ]
        }
      ],
      "source": [
        "# Change text to lower case\n",
        "review_data[\"reviewText\"]=review_data[\"reviewText\"].astype(str).str.lower()"
      ]
    },
    {
      "cell_type": "code",
      "execution_count": 8,
      "metadata": {
        "colab": {
          "base_uri": "https://localhost:8080/"
        },
        "id": "V5z7aVEuHj0a",
        "outputId": "d0965829-61e8-4068-927f-455a8fa97265"
      },
      "outputs": [
        {
          "name": "stderr",
          "output_type": "stream",
          "text": [
            "100%|██████████| 346355/346355 [01:39<00:00, 3488.64it/s]\n",
            "/var/folders/qk/cp6vzsf56nsb8yd0n4typwx00000gn/T/ipykernel_42025/655907805.py:2: SettingWithCopyWarning: \n",
            "A value is trying to be set on a copy of a slice from a DataFrame.\n",
            "Try using .loc[row_indexer,col_indexer] = value instead\n",
            "\n",
            "See the caveats in the documentation: https://pandas.pydata.org/pandas-docs/stable/user_guide/indexing.html#returning-a-view-versus-a-copy\n",
            "  review_data['reviewText'] = review_data.progress_apply(lambda row: word_tokenize(row['reviewText']), axis=1)\n"
          ]
        }
      ],
      "source": [
        "#tokenize words\n",
        "review_data['reviewText'] = review_data.progress_apply(lambda row: word_tokenize(row['reviewText']), axis=1)"
      ]
    },
    {
      "cell_type": "code",
      "execution_count": 9,
      "metadata": {
        "colab": {
          "base_uri": "https://localhost:8080/"
        },
        "id": "bFCPpTT3H1Dh",
        "outputId": "2a75e5e5-2b68-4ba7-d1e3-fe55f34b1a9b"
      },
      "outputs": [
        {
          "name": "stderr",
          "output_type": "stream",
          "text": [
            "100%|██████████| 346355/346355 [00:02<00:00, 144686.73it/s]\n",
            "/var/folders/qk/cp6vzsf56nsb8yd0n4typwx00000gn/T/ipykernel_42025/1052244429.py:2: SettingWithCopyWarning: \n",
            "A value is trying to be set on a copy of a slice from a DataFrame.\n",
            "Try using .loc[row_indexer,col_indexer] = value instead\n",
            "\n",
            "See the caveats in the documentation: https://pandas.pydata.org/pandas-docs/stable/user_guide/indexing.html#returning-a-view-versus-a-copy\n",
            "  review_data[\"reviewText\"] = review_data[\"reviewText\"].progress_apply(lambda x: ['not' if a ==\"n't\" else a for a in x])\n"
          ]
        }
      ],
      "source": [
        "#handle negation\n",
        "review_data[\"reviewText\"] = review_data[\"reviewText\"].progress_apply(lambda x: ['not' if a ==\"n't\" else a for a in x])"
      ]
    },
    {
      "cell_type": "code",
      "execution_count": 10,
      "metadata": {
        "colab": {
          "base_uri": "https://localhost:8080/",
          "height": 206
        },
        "id": "Mv2NrVdIH1GW",
        "outputId": "09c3d4ba-8517-4693-a967-5f4fee13f49a"
      },
      "outputs": [
        {
          "data": {
            "text/html": [
              "<div>\n",
              "<style scoped>\n",
              "    .dataframe tbody tr th:only-of-type {\n",
              "        vertical-align: middle;\n",
              "    }\n",
              "\n",
              "    .dataframe tbody tr th {\n",
              "        vertical-align: top;\n",
              "    }\n",
              "\n",
              "    .dataframe thead th {\n",
              "        text-align: right;\n",
              "    }\n",
              "</style>\n",
              "<table border=\"1\" class=\"dataframe\">\n",
              "  <thead>\n",
              "    <tr style=\"text-align: right;\">\n",
              "      <th></th>\n",
              "      <th>reviewerID</th>\n",
              "      <th>reviewText</th>\n",
              "      <th>overall</th>\n",
              "    </tr>\n",
              "  </thead>\n",
              "  <tbody>\n",
              "    <tr>\n",
              "      <th>0</th>\n",
              "      <td>ALC5GH8CAMAI7</td>\n",
              "      <td>[this, is, a, great, little, gadget, to, have,...</td>\n",
              "      <td>5.0</td>\n",
              "    </tr>\n",
              "    <tr>\n",
              "      <th>1</th>\n",
              "      <td>AHKSURW85PJUE</td>\n",
              "      <td>[i, would, recommend, this, for, a, travel, ma...</td>\n",
              "      <td>4.0</td>\n",
              "    </tr>\n",
              "    <tr>\n",
              "      <th>2</th>\n",
              "      <td>A38RMU1Y5TDP9</td>\n",
              "      <td>[what, i, liked, was, the, quality, of, the, l...</td>\n",
              "      <td>4.0</td>\n",
              "    </tr>\n",
              "    <tr>\n",
              "      <th>3</th>\n",
              "      <td>A1XZUG7DFXXOS4</td>\n",
              "      <td>[love, the, great, point, light, pocket, magni...</td>\n",
              "      <td>4.0</td>\n",
              "    </tr>\n",
              "    <tr>\n",
              "      <th>4</th>\n",
              "      <td>A1MS3M7M7AM13X</td>\n",
              "      <td>[this, is, very, nice, ., you, pull, out, on, ...</td>\n",
              "      <td>5.0</td>\n",
              "    </tr>\n",
              "  </tbody>\n",
              "</table>\n",
              "</div>"
            ],
            "text/plain": [
              "       reviewerID                                         reviewText  overall\n",
              "0   ALC5GH8CAMAI7  [this, is, a, great, little, gadget, to, have,...      5.0\n",
              "1   AHKSURW85PJUE  [i, would, recommend, this, for, a, travel, ma...      4.0\n",
              "2   A38RMU1Y5TDP9  [what, i, liked, was, the, quality, of, the, l...      4.0\n",
              "3  A1XZUG7DFXXOS4  [love, the, great, point, light, pocket, magni...      4.0\n",
              "4  A1MS3M7M7AM13X  [this, is, very, nice, ., you, pull, out, on, ...      5.0"
            ]
          },
          "execution_count": 10,
          "metadata": {},
          "output_type": "execute_result"
        }
      ],
      "source": [
        "review_data.head()"
      ]
    },
    {
      "cell_type": "code",
      "execution_count": 11,
      "metadata": {
        "colab": {
          "base_uri": "https://localhost:8080/"
        },
        "id": "11146OAnH1LS",
        "outputId": "d6e1c462-696b-4eb9-a6db-dd8fb952748d"
      },
      "outputs": [
        {
          "name": "stderr",
          "output_type": "stream",
          "text": [
            "[nltk_data] Downloading package stopwords to\n",
            "[nltk_data]     /Users/jihyunkim/nltk_data...\n",
            "[nltk_data]   Unzipping corpora/stopwords.zip.\n"
          ]
        },
        {
          "data": {
            "text/plain": [
              "True"
            ]
          },
          "execution_count": 11,
          "metadata": {},
          "output_type": "execute_result"
        }
      ],
      "source": [
        "nltk.download('stopwords')"
      ]
    },
    {
      "cell_type": "code",
      "execution_count": 12,
      "metadata": {
        "colab": {
          "base_uri": "https://localhost:8080/"
        },
        "id": "VS6h9jNjJlrH",
        "outputId": "c792a47f-69da-4ac4-9b66-6924b2a6c8b4"
      },
      "outputs": [
        {
          "name": "stderr",
          "output_type": "stream",
          "text": [
            "100%|██████████| 346355/346355 [00:24<00:00, 14278.61it/s]\n",
            "/var/folders/qk/cp6vzsf56nsb8yd0n4typwx00000gn/T/ipykernel_42025/2771996315.py:3: SettingWithCopyWarning: \n",
            "A value is trying to be set on a copy of a slice from a DataFrame.\n",
            "Try using .loc[row_indexer,col_indexer] = value instead\n",
            "\n",
            "See the caveats in the documentation: https://pandas.pydata.org/pandas-docs/stable/user_guide/indexing.html#returning-a-view-versus-a-copy\n",
            "  review_data['reviewText'] = review_data['reviewText'].progress_apply(lambda x: [a for a in x if a not in stop])\n"
          ]
        }
      ],
      "source": [
        "#removing stop words\n",
        "stop = stopwords.words('english')\n",
        "review_data['reviewText'] = review_data['reviewText'].progress_apply(lambda x: [a for a in x if a not in stop])"
      ]
    },
    {
      "cell_type": "code",
      "execution_count": 13,
      "metadata": {
        "colab": {
          "base_uri": "https://localhost:8080/"
        },
        "id": "Nbnl23L3Jltf",
        "outputId": "a191a084-5b69-4efe-d500-4e486c5c52d1"
      },
      "outputs": [
        {
          "name": "stderr",
          "output_type": "stream",
          "text": [
            "100%|██████████| 346355/346355 [00:02<00:00, 123051.71it/s]\n",
            "/var/folders/qk/cp6vzsf56nsb8yd0n4typwx00000gn/T/ipykernel_42025/3574156866.py:2: SettingWithCopyWarning: \n",
            "A value is trying to be set on a copy of a slice from a DataFrame.\n",
            "Try using .loc[row_indexer,col_indexer] = value instead\n",
            "\n",
            "See the caveats in the documentation: https://pandas.pydata.org/pandas-docs/stable/user_guide/indexing.html#returning-a-view-versus-a-copy\n",
            "  review_data[\"reviewText\"] = review_data['reviewText'].progress_apply(lambda x: [a for a in x if a.isalpha()])\n"
          ]
        }
      ],
      "source": [
        "#removing punctuation and symbols\n",
        "review_data[\"reviewText\"] = review_data['reviewText'].progress_apply(lambda x: [a for a in x if a.isalpha()])"
      ]
    },
    {
      "cell_type": "code",
      "execution_count": 14,
      "metadata": {
        "colab": {
          "base_uri": "https://localhost:8080/"
        },
        "id": "Sjcv-OIlJlx4",
        "outputId": "dd786644-b865-4a66-b102-67494c49ad20"
      },
      "outputs": [
        {
          "name": "stderr",
          "output_type": "stream",
          "text": [
            "100%|██████████| 346355/346355 [02:03<00:00, 2811.88it/s]\n",
            "/var/folders/qk/cp6vzsf56nsb8yd0n4typwx00000gn/T/ipykernel_42025/2789820749.py:3: SettingWithCopyWarning: \n",
            "A value is trying to be set on a copy of a slice from a DataFrame.\n",
            "Try using .loc[row_indexer,col_indexer] = value instead\n",
            "\n",
            "See the caveats in the documentation: https://pandas.pydata.org/pandas-docs/stable/user_guide/indexing.html#returning-a-view-versus-a-copy\n",
            "  review_data['reviewText'] = review_data['reviewText'].progress_apply(lambda x : [ps.stem(a) for a in x])\n"
          ]
        }
      ],
      "source": [
        "#stemming words\n",
        "ps = PorterStemmer()\n",
        "review_data['reviewText'] = review_data['reviewText'].progress_apply(lambda x : [ps.stem(a) for a in x])"
      ]
    },
    {
      "cell_type": "code",
      "execution_count": 15,
      "metadata": {
        "colab": {
          "base_uri": "https://localhost:8080/"
        },
        "id": "nuD9XjsmJl0f",
        "outputId": "2ad19ea9-3f08-48fb-f645-373856323ef8"
      },
      "outputs": [
        {
          "name": "stderr",
          "output_type": "stream",
          "text": [
            "100%|██████████| 346355/346355 [00:00<00:00, 757981.70it/s]\n",
            "/var/folders/qk/cp6vzsf56nsb8yd0n4typwx00000gn/T/ipykernel_42025/3232170542.py:2: SettingWithCopyWarning: \n",
            "A value is trying to be set on a copy of a slice from a DataFrame.\n",
            "Try using .loc[row_indexer,col_indexer] = value instead\n",
            "\n",
            "See the caveats in the documentation: https://pandas.pydata.org/pandas-docs/stable/user_guide/indexing.html#returning-a-view-versus-a-copy\n",
            "  review_data[\"reviewText\"] = review_data[\"reviewText\"].progress_apply(lambda x: str(' '.join(x)))\n"
          ]
        }
      ],
      "source": [
        "#joining words back\n",
        "review_data[\"reviewText\"] = review_data[\"reviewText\"].progress_apply(lambda x: str(' '.join(x)))"
      ]
    },
    {
      "cell_type": "code",
      "execution_count": 16,
      "metadata": {
        "colab": {
          "base_uri": "https://localhost:8080/"
        },
        "id": "2jX-KRGQJsmI",
        "outputId": "dfbe3c26-7253-497a-dfd8-b7c172983c96"
      },
      "outputs": [
        {
          "data": {
            "text/html": [
              "<div>\n",
              "<style scoped>\n",
              "    .dataframe tbody tr th:only-of-type {\n",
              "        vertical-align: middle;\n",
              "    }\n",
              "\n",
              "    .dataframe tbody tr th {\n",
              "        vertical-align: top;\n",
              "    }\n",
              "\n",
              "    .dataframe thead th {\n",
              "        text-align: right;\n",
              "    }\n",
              "</style>\n",
              "<table border=\"1\" class=\"dataframe\">\n",
              "  <thead>\n",
              "    <tr style=\"text-align: right;\">\n",
              "      <th></th>\n",
              "      <th>reviewerID</th>\n",
              "      <th>reviewText</th>\n",
              "      <th>overall</th>\n",
              "    </tr>\n",
              "  </thead>\n",
              "  <tbody>\n",
              "    <tr>\n",
              "      <th>0</th>\n",
              "      <td>ALC5GH8CAMAI7</td>\n",
              "      <td>great littl gadget around alreadi use look spl...</td>\n",
              "      <td>5.0</td>\n",
              "    </tr>\n",
              "    <tr>\n",
              "      <th>1</th>\n",
              "      <td>AHKSURW85PJUE</td>\n",
              "      <td>would recommend travel magnifi occasion read a...</td>\n",
              "      <td>4.0</td>\n",
              "    </tr>\n",
              "    <tr>\n",
              "      <th>2</th>\n",
              "      <td>A38RMU1Y5TDP9</td>\n",
              "      <td>like qualiti len built light len discern disto...</td>\n",
              "      <td>4.0</td>\n",
              "    </tr>\n",
              "    <tr>\n",
              "      <th>3</th>\n",
              "      <td>A1XZUG7DFXXOS4</td>\n",
              "      <td>love great point light pocket magnifi work gre...</td>\n",
              "      <td>4.0</td>\n",
              "    </tr>\n",
              "    <tr>\n",
              "      <th>4</th>\n",
              "      <td>A1MS3M7M7AM13X</td>\n",
              "      <td>nice pull magnifi want light come slide back w...</td>\n",
              "      <td>5.0</td>\n",
              "    </tr>\n",
              "  </tbody>\n",
              "</table>\n",
              "</div>"
            ],
            "text/plain": [
              "       reviewerID                                         reviewText  overall\n",
              "0   ALC5GH8CAMAI7  great littl gadget around alreadi use look spl...      5.0\n",
              "1   AHKSURW85PJUE  would recommend travel magnifi occasion read a...      4.0\n",
              "2   A38RMU1Y5TDP9  like qualiti len built light len discern disto...      4.0\n",
              "3  A1XZUG7DFXXOS4  love great point light pocket magnifi work gre...      4.0\n",
              "4  A1MS3M7M7AM13X  nice pull magnifi want light come slide back w...      5.0"
            ]
          },
          "execution_count": 16,
          "metadata": {},
          "output_type": "execute_result"
        }
      ],
      "source": [
        "review_data.head()"
      ]
    },
    {
      "cell_type": "code",
      "execution_count": 17,
      "metadata": {
        "colab": {
          "base_uri": "https://localhost:8080/"
        },
        "id": "_JI272UOJsoa",
        "outputId": "6ed6ce18-57a2-4e35-dc13-c5bd1ee65a28"
      },
      "outputs": [
        {
          "name": "stderr",
          "output_type": "stream",
          "text": [
            "/var/folders/qk/cp6vzsf56nsb8yd0n4typwx00000gn/T/ipykernel_42025/1511312011.py:6: SettingWithCopyWarning: \n",
            "A value is trying to be set on a copy of a slice from a DataFrame.\n",
            "Try using .loc[row_indexer,col_indexer] = value instead\n",
            "\n",
            "See the caveats in the documentation: https://pandas.pydata.org/pandas-docs/stable/user_guide/indexing.html#returning-a-view-versus-a-copy\n",
            "  review_data[\"sentiment\"] = review_data[\"overall\"].map(sentiment)\n"
          ]
        },
        {
          "data": {
            "text/html": [
              "<div>\n",
              "<style scoped>\n",
              "    .dataframe tbody tr th:only-of-type {\n",
              "        vertical-align: middle;\n",
              "    }\n",
              "\n",
              "    .dataframe tbody tr th {\n",
              "        vertical-align: top;\n",
              "    }\n",
              "\n",
              "    .dataframe thead th {\n",
              "        text-align: right;\n",
              "    }\n",
              "</style>\n",
              "<table border=\"1\" class=\"dataframe\">\n",
              "  <thead>\n",
              "    <tr style=\"text-align: right;\">\n",
              "      <th></th>\n",
              "      <th>reviewerID</th>\n",
              "      <th>reviewText</th>\n",
              "      <th>overall</th>\n",
              "      <th>sentiment</th>\n",
              "    </tr>\n",
              "  </thead>\n",
              "  <tbody>\n",
              "    <tr>\n",
              "      <th>0</th>\n",
              "      <td>ALC5GH8CAMAI7</td>\n",
              "      <td>great littl gadget around alreadi use look spl...</td>\n",
              "      <td>5.0</td>\n",
              "      <td>1.0</td>\n",
              "    </tr>\n",
              "    <tr>\n",
              "      <th>1</th>\n",
              "      <td>AHKSURW85PJUE</td>\n",
              "      <td>would recommend travel magnifi occasion read a...</td>\n",
              "      <td>4.0</td>\n",
              "      <td>1.0</td>\n",
              "    </tr>\n",
              "    <tr>\n",
              "      <th>2</th>\n",
              "      <td>A38RMU1Y5TDP9</td>\n",
              "      <td>like qualiti len built light len discern disto...</td>\n",
              "      <td>4.0</td>\n",
              "      <td>1.0</td>\n",
              "    </tr>\n",
              "    <tr>\n",
              "      <th>3</th>\n",
              "      <td>A1XZUG7DFXXOS4</td>\n",
              "      <td>love great point light pocket magnifi work gre...</td>\n",
              "      <td>4.0</td>\n",
              "      <td>1.0</td>\n",
              "    </tr>\n",
              "    <tr>\n",
              "      <th>4</th>\n",
              "      <td>A1MS3M7M7AM13X</td>\n",
              "      <td>nice pull magnifi want light come slide back w...</td>\n",
              "      <td>5.0</td>\n",
              "      <td>1.0</td>\n",
              "    </tr>\n",
              "  </tbody>\n",
              "</table>\n",
              "</div>"
            ],
            "text/plain": [
              "       reviewerID                                         reviewText  overall  \\\n",
              "0   ALC5GH8CAMAI7  great littl gadget around alreadi use look spl...      5.0   \n",
              "1   AHKSURW85PJUE  would recommend travel magnifi occasion read a...      4.0   \n",
              "2   A38RMU1Y5TDP9  like qualiti len built light len discern disto...      4.0   \n",
              "3  A1XZUG7DFXXOS4  love great point light pocket magnifi work gre...      4.0   \n",
              "4  A1MS3M7M7AM13X  nice pull magnifi want light come slide back w...      5.0   \n",
              "\n",
              "   sentiment  \n",
              "0        1.0  \n",
              "1        1.0  \n",
              "2        1.0  \n",
              "3        1.0  \n",
              "4        1.0  "
            ]
          },
          "execution_count": 17,
          "metadata": {},
          "output_type": "execute_result"
        }
      ],
      "source": [
        "# Map ratings to sentiments\n",
        "# A rating of 4 or 5 = positive sentiment 1\n",
        "# A rating of 1 or 2 = negative sentiment 0\n",
        "\n",
        "sentiment = {1: 0, 2: 0, 4: 1, 5: 1}\n",
        "review_data[\"sentiment\"] = review_data[\"overall\"].map(sentiment)\n",
        "\n",
        "review_data.head()"
      ]
    },
    {
      "cell_type": "code",
      "execution_count": 18,
      "metadata": {
        "colab": {
          "base_uri": "https://localhost:8080/"
        },
        "id": "fNUCxkthJsrB",
        "outputId": "3310d7e3-161f-4617-851e-32961798b8dd"
      },
      "outputs": [
        {
          "data": {
            "text/plain": [
              "(33300, 279801)"
            ]
          },
          "execution_count": 18,
          "metadata": {},
          "output_type": "execute_result"
        }
      ],
      "source": [
        "# Check if the data is well balanced\n",
        "len(review_data[review_data[\"sentiment\"]==0]),len(review_data[review_data[\"sentiment\"]==1]) # The data is imbalanced"
      ]
    },
    {
      "cell_type": "code",
      "execution_count": 19,
      "metadata": {
        "colab": {
          "base_uri": "https://localhost:8080/"
        },
        "id": "TcqHDL4SJstX",
        "outputId": "719d0463-af77-465b-d0f6-1f48fbc34932"
      },
      "outputs": [
        {
          "data": {
            "text/html": [
              "<div>\n",
              "<style scoped>\n",
              "    .dataframe tbody tr th:only-of-type {\n",
              "        vertical-align: middle;\n",
              "    }\n",
              "\n",
              "    .dataframe tbody tr th {\n",
              "        vertical-align: top;\n",
              "    }\n",
              "\n",
              "    .dataframe thead th {\n",
              "        text-align: right;\n",
              "    }\n",
              "</style>\n",
              "<table border=\"1\" class=\"dataframe\">\n",
              "  <thead>\n",
              "    <tr style=\"text-align: right;\">\n",
              "      <th></th>\n",
              "      <th>reviewerID</th>\n",
              "      <th>reviewText</th>\n",
              "      <th>overall</th>\n",
              "      <th>sentiment</th>\n",
              "    </tr>\n",
              "  </thead>\n",
              "  <tbody>\n",
              "    <tr>\n",
              "      <th>148308</th>\n",
              "      <td>A2MU3FLFSWW4TD</td>\n",
              "      <td>use pay twice much network market scheme man i...</td>\n",
              "      <td>5.0</td>\n",
              "      <td>1.0</td>\n",
              "    </tr>\n",
              "    <tr>\n",
              "      <th>14870</th>\n",
              "      <td>A2WL9KZ9JXRTHQ</td>\n",
              "      <td>make great product yogurt quit tasti clean fre...</td>\n",
              "      <td>5.0</td>\n",
              "      <td>1.0</td>\n",
              "    </tr>\n",
              "    <tr>\n",
              "      <th>315518</th>\n",
              "      <td>A27GPXG538KWHU</td>\n",
              "      <td>use anoth major brand omega capsul decid tri d...</td>\n",
              "      <td>5.0</td>\n",
              "      <td>1.0</td>\n",
              "    </tr>\n",
              "    <tr>\n",
              "      <th>196317</th>\n",
              "      <td>A4E9H23O2Q9SR</td>\n",
              "      <td>like thing pretti comfort definit add support ...</td>\n",
              "      <td>4.0</td>\n",
              "      <td>1.0</td>\n",
              "    </tr>\n",
              "    <tr>\n",
              "      <th>269638</th>\n",
              "      <td>A27Q1X75QCWTID</td>\n",
              "      <td>usual use mach kind razor excit tri girli razo...</td>\n",
              "      <td>4.0</td>\n",
              "      <td>1.0</td>\n",
              "    </tr>\n",
              "  </tbody>\n",
              "</table>\n",
              "</div>"
            ],
            "text/plain": [
              "            reviewerID                                         reviewText  \\\n",
              "148308  A2MU3FLFSWW4TD  use pay twice much network market scheme man i...   \n",
              "14870   A2WL9KZ9JXRTHQ  make great product yogurt quit tasti clean fre...   \n",
              "315518  A27GPXG538KWHU  use anoth major brand omega capsul decid tri d...   \n",
              "196317   A4E9H23O2Q9SR  like thing pretti comfort definit add support ...   \n",
              "269638  A27Q1X75QCWTID  usual use mach kind razor excit tri girli razo...   \n",
              "\n",
              "        overall  sentiment  \n",
              "148308      5.0        1.0  \n",
              "14870       5.0        1.0  \n",
              "315518      5.0        1.0  \n",
              "196317      4.0        1.0  \n",
              "269638      4.0        1.0  "
            ]
          },
          "execution_count": 19,
          "metadata": {},
          "output_type": "execute_result"
        }
      ],
      "source": [
        "# Randomly create samples to address data imbalance\n",
        "review_positive = review_data[review_data['sentiment']==1]\n",
        "review_negative = review_data[review_data['sentiment']==0]\n",
        "\n",
        "new_reviews = pd.concat([review_positive.sample(n=10000, random_state=1), review_negative.sample(n=10000, random_state=1)])\n",
        "\n",
        "new_reviews.head()"
      ]
    },
    {
      "cell_type": "code",
      "execution_count": 20,
      "metadata": {
        "colab": {
          "base_uri": "https://localhost:8080/"
        },
        "id": "72dSXPogJsv-",
        "outputId": "826bf86d-5b94-497a-f9c5-396a5b7e49c2"
      },
      "outputs": [
        {
          "data": {
            "text/plain": [
              "(10000, 10000)"
            ]
          },
          "execution_count": 20,
          "metadata": {},
          "output_type": "execute_result"
        }
      ],
      "source": [
        "len(new_reviews[new_reviews[\"sentiment\"]==0]),len(new_reviews[new_reviews[\"sentiment\"]==1])"
      ]
    },
    {
      "cell_type": "markdown",
      "metadata": {
        "id": "_8-rkykXMpbg"
      },
      "source": [
        "# Text vetorization: Bag of Words"
      ]
    },
    {
      "cell_type": "code",
      "execution_count": 21,
      "metadata": {
        "colab": {
          "base_uri": "https://localhost:8080/"
        },
        "id": "vzwA6RxIMlUg",
        "outputId": "67fb75f2-da62-45e7-edb0-73b620f6a3d0"
      },
      "outputs": [
        {
          "name": "stderr",
          "output_type": "stream",
          "text": [
            "100%|██████████| 20000/20000 [00:09<00:00, 2083.33it/s]\n"
          ]
        }
      ],
      "source": [
        "#Creating table of 500 most common words\n",
        "word_freq = {}\n",
        "for review in new_reviews['reviewText']:\n",
        "    for word in review.split(' '):\n",
        "        if word not in word_freq.keys():\n",
        "            word_freq[word] = 1\n",
        "        else:\n",
        "            word_freq[word] += 1\n",
        "\n",
        "word_vector = heapq.nlargest(500, word_freq, key=word_freq.get)\n",
        "\n",
        "def word_vectors(review):\n",
        "    review_vec = []\n",
        "    for word in word_vector:\n",
        "        if word in review.split(' '):\n",
        "            review_vec.append(1)\n",
        "        else:\n",
        "            review_vec.append(0)\n",
        "    return review_vec\n",
        "\n",
        "new_reviews[\"bagofwords\"] = new_reviews[\"reviewText\"].progress_apply(word_vectors)"
      ]
    },
    {
      "cell_type": "code",
      "execution_count": 22,
      "metadata": {
        "colab": {
          "base_uri": "https://localhost:8080/"
        },
        "id": "-d1x4DfoMlXG",
        "outputId": "d7915512-703f-4587-8275-8e06564e11bf"
      },
      "outputs": [
        {
          "data": {
            "text/html": [
              "<div>\n",
              "<style scoped>\n",
              "    .dataframe tbody tr th:only-of-type {\n",
              "        vertical-align: middle;\n",
              "    }\n",
              "\n",
              "    .dataframe tbody tr th {\n",
              "        vertical-align: top;\n",
              "    }\n",
              "\n",
              "    .dataframe thead th {\n",
              "        text-align: right;\n",
              "    }\n",
              "</style>\n",
              "<table border=\"1\" class=\"dataframe\">\n",
              "  <thead>\n",
              "    <tr style=\"text-align: right;\">\n",
              "      <th></th>\n",
              "      <th>reviewerID</th>\n",
              "      <th>reviewText</th>\n",
              "      <th>overall</th>\n",
              "      <th>sentiment</th>\n",
              "      <th>bagofwords</th>\n",
              "    </tr>\n",
              "  </thead>\n",
              "  <tbody>\n",
              "    <tr>\n",
              "      <th>148308</th>\n",
              "      <td>A2MU3FLFSWW4TD</td>\n",
              "      <td>use pay twice much network market scheme man i...</td>\n",
              "      <td>5.0</td>\n",
              "      <td>1.0</td>\n",
              "      <td>[1, 0, 0, 0, 0, 0, 0, 0, 0, 0, 0, 0, 0, 0, 0, ...</td>\n",
              "    </tr>\n",
              "    <tr>\n",
              "      <th>14870</th>\n",
              "      <td>A2WL9KZ9JXRTHQ</td>\n",
              "      <td>make great product yogurt quit tasti clean fre...</td>\n",
              "      <td>5.0</td>\n",
              "      <td>1.0</td>\n",
              "      <td>[1, 1, 1, 0, 0, 1, 0, 0, 0, 0, 0, 0, 0, 0, 1, ...</td>\n",
              "    </tr>\n",
              "    <tr>\n",
              "      <th>315518</th>\n",
              "      <td>A27GPXG538KWHU</td>\n",
              "      <td>use anoth major brand omega capsul decid tri d...</td>\n",
              "      <td>5.0</td>\n",
              "      <td>1.0</td>\n",
              "      <td>[1, 0, 1, 0, 0, 1, 0, 1, 0, 0, 0, 0, 0, 0, 0, ...</td>\n",
              "    </tr>\n",
              "    <tr>\n",
              "      <th>196317</th>\n",
              "      <td>A4E9H23O2Q9SR</td>\n",
              "      <td>like thing pretti comfort definit add support ...</td>\n",
              "      <td>4.0</td>\n",
              "      <td>1.0</td>\n",
              "      <td>[1, 0, 1, 1, 1, 0, 1, 0, 1, 0, 0, 1, 0, 0, 1, ...</td>\n",
              "    </tr>\n",
              "    <tr>\n",
              "      <th>269638</th>\n",
              "      <td>A27Q1X75QCWTID</td>\n",
              "      <td>usual use mach kind razor excit tri girli razo...</td>\n",
              "      <td>4.0</td>\n",
              "      <td>1.0</td>\n",
              "      <td>[1, 1, 1, 1, 0, 0, 0, 1, 0, 0, 1, 0, 1, 0, 0, ...</td>\n",
              "    </tr>\n",
              "  </tbody>\n",
              "</table>\n",
              "</div>"
            ],
            "text/plain": [
              "            reviewerID                                         reviewText  \\\n",
              "148308  A2MU3FLFSWW4TD  use pay twice much network market scheme man i...   \n",
              "14870   A2WL9KZ9JXRTHQ  make great product yogurt quit tasti clean fre...   \n",
              "315518  A27GPXG538KWHU  use anoth major brand omega capsul decid tri d...   \n",
              "196317   A4E9H23O2Q9SR  like thing pretti comfort definit add support ...   \n",
              "269638  A27Q1X75QCWTID  usual use mach kind razor excit tri girli razo...   \n",
              "\n",
              "        overall  sentiment                                         bagofwords  \n",
              "148308      5.0        1.0  [1, 0, 0, 0, 0, 0, 0, 0, 0, 0, 0, 0, 0, 0, 0, ...  \n",
              "14870       5.0        1.0  [1, 1, 1, 0, 0, 1, 0, 0, 0, 0, 0, 0, 0, 0, 1, ...  \n",
              "315518      5.0        1.0  [1, 0, 1, 0, 0, 1, 0, 1, 0, 0, 0, 0, 0, 0, 0, ...  \n",
              "196317      4.0        1.0  [1, 0, 1, 1, 1, 0, 1, 0, 1, 0, 0, 1, 0, 0, 1, ...  \n",
              "269638      4.0        1.0  [1, 1, 1, 1, 0, 0, 0, 1, 0, 0, 1, 0, 1, 0, 0, ...  "
            ]
          },
          "execution_count": 22,
          "metadata": {},
          "output_type": "execute_result"
        }
      ],
      "source": [
        "new_reviews.head()"
      ]
    },
    {
      "cell_type": "code",
      "execution_count": 23,
      "metadata": {
        "id": "nVAgGTw0MlZZ"
      },
      "outputs": [],
      "source": [
        "bagofwords = pd.DataFrame(new_reviews[\"bagofwords\"].values.tolist(),columns = word_vector,index = new_reviews[\"reviewerID\"])"
      ]
    },
    {
      "cell_type": "code",
      "execution_count": 24,
      "metadata": {
        "colab": {
          "base_uri": "https://localhost:8080/"
        },
        "id": "n7ceSK5eMlbv",
        "outputId": "0edaed34-f8fb-4ee4-b554-8e4bf830c0a1"
      },
      "outputs": [
        {
          "data": {
            "text/html": [
              "<div>\n",
              "<style scoped>\n",
              "    .dataframe tbody tr th:only-of-type {\n",
              "        vertical-align: middle;\n",
              "    }\n",
              "\n",
              "    .dataframe tbody tr th {\n",
              "        vertical-align: top;\n",
              "    }\n",
              "\n",
              "    .dataframe thead th {\n",
              "        text-align: right;\n",
              "    }\n",
              "</style>\n",
              "<table border=\"1\" class=\"dataframe\">\n",
              "  <thead>\n",
              "    <tr style=\"text-align: right;\">\n",
              "      <th></th>\n",
              "      <th>use</th>\n",
              "      <th>product</th>\n",
              "      <th>like</th>\n",
              "      <th>one</th>\n",
              "      <th>work</th>\n",
              "      <th>get</th>\n",
              "      <th>would</th>\n",
              "      <th>tri</th>\n",
              "      <th>take</th>\n",
              "      <th>good</th>\n",
              "      <th>...</th>\n",
              "      <th>rins</th>\n",
              "      <th>basic</th>\n",
              "      <th>name</th>\n",
              "      <th>ask</th>\n",
              "      <th>monitor</th>\n",
              "      <th>huge</th>\n",
              "      <th>immedi</th>\n",
              "      <th>arriv</th>\n",
              "      <th>smaller</th>\n",
              "      <th>updat</th>\n",
              "    </tr>\n",
              "    <tr>\n",
              "      <th>reviewerID</th>\n",
              "      <th></th>\n",
              "      <th></th>\n",
              "      <th></th>\n",
              "      <th></th>\n",
              "      <th></th>\n",
              "      <th></th>\n",
              "      <th></th>\n",
              "      <th></th>\n",
              "      <th></th>\n",
              "      <th></th>\n",
              "      <th></th>\n",
              "      <th></th>\n",
              "      <th></th>\n",
              "      <th></th>\n",
              "      <th></th>\n",
              "      <th></th>\n",
              "      <th></th>\n",
              "      <th></th>\n",
              "      <th></th>\n",
              "      <th></th>\n",
              "      <th></th>\n",
              "    </tr>\n",
              "  </thead>\n",
              "  <tbody>\n",
              "    <tr>\n",
              "      <th>A2MU3FLFSWW4TD</th>\n",
              "      <td>1</td>\n",
              "      <td>0</td>\n",
              "      <td>0</td>\n",
              "      <td>0</td>\n",
              "      <td>0</td>\n",
              "      <td>0</td>\n",
              "      <td>0</td>\n",
              "      <td>0</td>\n",
              "      <td>0</td>\n",
              "      <td>0</td>\n",
              "      <td>...</td>\n",
              "      <td>0</td>\n",
              "      <td>0</td>\n",
              "      <td>0</td>\n",
              "      <td>0</td>\n",
              "      <td>0</td>\n",
              "      <td>0</td>\n",
              "      <td>0</td>\n",
              "      <td>0</td>\n",
              "      <td>0</td>\n",
              "      <td>0</td>\n",
              "    </tr>\n",
              "    <tr>\n",
              "      <th>A2WL9KZ9JXRTHQ</th>\n",
              "      <td>1</td>\n",
              "      <td>1</td>\n",
              "      <td>1</td>\n",
              "      <td>0</td>\n",
              "      <td>0</td>\n",
              "      <td>1</td>\n",
              "      <td>0</td>\n",
              "      <td>0</td>\n",
              "      <td>0</td>\n",
              "      <td>0</td>\n",
              "      <td>...</td>\n",
              "      <td>0</td>\n",
              "      <td>0</td>\n",
              "      <td>0</td>\n",
              "      <td>0</td>\n",
              "      <td>0</td>\n",
              "      <td>0</td>\n",
              "      <td>0</td>\n",
              "      <td>0</td>\n",
              "      <td>0</td>\n",
              "      <td>0</td>\n",
              "    </tr>\n",
              "    <tr>\n",
              "      <th>A27GPXG538KWHU</th>\n",
              "      <td>1</td>\n",
              "      <td>0</td>\n",
              "      <td>1</td>\n",
              "      <td>0</td>\n",
              "      <td>0</td>\n",
              "      <td>1</td>\n",
              "      <td>0</td>\n",
              "      <td>1</td>\n",
              "      <td>0</td>\n",
              "      <td>0</td>\n",
              "      <td>...</td>\n",
              "      <td>0</td>\n",
              "      <td>0</td>\n",
              "      <td>0</td>\n",
              "      <td>0</td>\n",
              "      <td>0</td>\n",
              "      <td>0</td>\n",
              "      <td>0</td>\n",
              "      <td>0</td>\n",
              "      <td>0</td>\n",
              "      <td>0</td>\n",
              "    </tr>\n",
              "    <tr>\n",
              "      <th>A4E9H23O2Q9SR</th>\n",
              "      <td>1</td>\n",
              "      <td>0</td>\n",
              "      <td>1</td>\n",
              "      <td>1</td>\n",
              "      <td>1</td>\n",
              "      <td>0</td>\n",
              "      <td>1</td>\n",
              "      <td>0</td>\n",
              "      <td>1</td>\n",
              "      <td>0</td>\n",
              "      <td>...</td>\n",
              "      <td>0</td>\n",
              "      <td>0</td>\n",
              "      <td>0</td>\n",
              "      <td>0</td>\n",
              "      <td>0</td>\n",
              "      <td>0</td>\n",
              "      <td>0</td>\n",
              "      <td>0</td>\n",
              "      <td>0</td>\n",
              "      <td>0</td>\n",
              "    </tr>\n",
              "    <tr>\n",
              "      <th>A27Q1X75QCWTID</th>\n",
              "      <td>1</td>\n",
              "      <td>1</td>\n",
              "      <td>1</td>\n",
              "      <td>1</td>\n",
              "      <td>0</td>\n",
              "      <td>0</td>\n",
              "      <td>0</td>\n",
              "      <td>1</td>\n",
              "      <td>0</td>\n",
              "      <td>0</td>\n",
              "      <td>...</td>\n",
              "      <td>0</td>\n",
              "      <td>0</td>\n",
              "      <td>0</td>\n",
              "      <td>0</td>\n",
              "      <td>0</td>\n",
              "      <td>0</td>\n",
              "      <td>0</td>\n",
              "      <td>0</td>\n",
              "      <td>0</td>\n",
              "      <td>0</td>\n",
              "    </tr>\n",
              "  </tbody>\n",
              "</table>\n",
              "<p>5 rows × 500 columns</p>\n",
              "</div>"
            ],
            "text/plain": [
              "                use  product  like  one  work  get  would  tri  take  good  \\\n",
              "reviewerID                                                                   \n",
              "A2MU3FLFSWW4TD    1        0     0    0     0    0      0    0     0     0   \n",
              "A2WL9KZ9JXRTHQ    1        1     1    0     0    1      0    0     0     0   \n",
              "A27GPXG538KWHU    1        0     1    0     0    1      0    1     0     0   \n",
              "A4E9H23O2Q9SR     1        0     1    1     1    0      1    0     1     0   \n",
              "A27Q1X75QCWTID    1        1     1    1     0    0      0    1     0     0   \n",
              "\n",
              "                ...  rins  basic  name  ask  monitor  huge  immedi  arriv  \\\n",
              "reviewerID      ...                                                         \n",
              "A2MU3FLFSWW4TD  ...     0      0     0    0        0     0       0      0   \n",
              "A2WL9KZ9JXRTHQ  ...     0      0     0    0        0     0       0      0   \n",
              "A27GPXG538KWHU  ...     0      0     0    0        0     0       0      0   \n",
              "A4E9H23O2Q9SR   ...     0      0     0    0        0     0       0      0   \n",
              "A27Q1X75QCWTID  ...     0      0     0    0        0     0       0      0   \n",
              "\n",
              "                smaller  updat  \n",
              "reviewerID                      \n",
              "A2MU3FLFSWW4TD        0      0  \n",
              "A2WL9KZ9JXRTHQ        0      0  \n",
              "A27GPXG538KWHU        0      0  \n",
              "A4E9H23O2Q9SR         0      0  \n",
              "A27Q1X75QCWTID        0      0  \n",
              "\n",
              "[5 rows x 500 columns]"
            ]
          },
          "execution_count": 24,
          "metadata": {},
          "output_type": "execute_result"
        }
      ],
      "source": [
        "bagofwords.head()"
      ]
    },
    {
      "cell_type": "markdown",
      "metadata": {
        "id": "mHmkSvhOM-CP"
      },
      "source": [
        "# Text vetorization: TF-IDF"
      ]
    },
    {
      "cell_type": "code",
      "execution_count": 25,
      "metadata": {
        "colab": {
          "base_uri": "https://localhost:8080/"
        },
        "id": "LoJPXdpeMld0",
        "outputId": "35fab941-d3d5-46d1-f9ba-35f8caa49523"
      },
      "outputs": [
        {
          "data": {
            "text/plain": [
              "<20000x20746 sparse matrix of type '<class 'numpy.float64'>'\n",
              "\twith 718712 stored elements in Compressed Sparse Row format>"
            ]
          },
          "execution_count": 25,
          "metadata": {},
          "output_type": "execute_result"
        }
      ],
      "source": [
        "vectorizer_tfidf = TfidfVectorizer(max_df=0.9)\n",
        "tfidf = vectorizer_tfidf.fit_transform(new_reviews[\"reviewText\"])\n",
        "\n",
        "tfidf"
      ]
    },
    {
      "cell_type": "markdown",
      "metadata": {
        "id": "0Cq8PEsyNPC1"
      },
      "source": [
        "# Text vetorization: nGrams"
      ]
    },
    {
      "cell_type": "code",
      "execution_count": 26,
      "metadata": {
        "colab": {
          "base_uri": "https://localhost:8080/"
        },
        "id": "cj9P6eSZMlga",
        "outputId": "ecfbfd8a-ea54-4baa-f600-024f71cf7193"
      },
      "outputs": [
        {
          "data": {
            "text/plain": [
              "<20000x474510 sparse matrix of type '<class 'numpy.float64'>'\n",
              "\twith 867305 stored elements in Compressed Sparse Row format>"
            ]
          },
          "execution_count": 26,
          "metadata": {},
          "output_type": "execute_result"
        }
      ],
      "source": [
        "vectorizer_ngram = TfidfVectorizer(analyzer='word', ngram_range=(2,2), max_df=0.9)\n",
        "ngram = vectorizer_ngram.fit_transform(new_reviews['reviewText'])\n",
        "\n",
        "ngram"
      ]
    },
    {
      "cell_type": "markdown",
      "metadata": {
        "id": "nmt1qB3qNZ3O"
      },
      "source": [
        "# Sentiment Analysis Predictive Models"
      ]
    },
    {
      "cell_type": "markdown",
      "metadata": {
        "id": "ZyBP3mFLOrhy"
      },
      "source": [
        "# Logistic Regression (With GridSearchCV)"
      ]
    },
    {
      "cell_type": "code",
      "execution_count": 31,
      "metadata": {
        "id": "yjmARy61OJm8"
      },
      "outputs": [],
      "source": [
        "def logisticCV(data, hyperparameters):\n",
        "    x_train, x_test, y_train, y_test = train_test_split(data,\n",
        "                                                        new_reviews[\"sentiment\"],\n",
        "                                                        test_size=0.3, random_state=9)\n",
        "\n",
        "    logreg = GridSearchCV(LogisticRegression(), hyperparameters, cv=2, refit=True)\n",
        "    logreg.fit(x_train, y_train)\n",
        "    y_pred = logreg.predict(x_test)\n",
        "\n",
        "    confusion = print(confusion_matrix(y_test, y_pred))\n",
        "    report = print(classification_report(y_test, y_pred))\n",
        "    bestparams = logreg.best_params_\n",
        "\n",
        "    logreg_auc_roc = roc_auc_score(y_test, y_pred)\n",
        "    fpr, tpr, thresholds = roc_curve(y_test, logreg.predict_proba(x_test)[:,1])\n",
        "    plt.figure()\n",
        "    plt.plot(fpr, tpr, label='Logistic Regression (AUC = %0.2f)' % logreg_auc_roc)\n",
        "    plt.plot([0, 1], [0, 1],'r--')\n",
        "    plt.xlabel('False Positive Rate')\n",
        "    plt.ylabel('True Positive Rate')\n",
        "    plt.title('ROC Curve')\n",
        "    plt.legend(loc=\"lower right\")\n",
        "\n",
        "\n",
        "    return bestparams, confusion, report, plt.show()\n",
        "\n",
        "hyperparas = {'C': np.logspace(-2, 4, 10)}"
      ]
    },
    {
      "cell_type": "code",
      "execution_count": 32,
      "metadata": {
        "colab": {
          "base_uri": "https://localhost:8080/"
        },
        "id": "B3SkwyrLOJpX",
        "outputId": "2992bb21-e916-4977-a02d-8699e079a603"
      },
      "outputs": [
        {
          "name": "stdout",
          "output_type": "stream",
          "text": [
            "[[2366  677]\n",
            " [ 630 2327]]\n",
            "              precision    recall  f1-score   support\n",
            "\n",
            "         0.0       0.79      0.78      0.78      3043\n",
            "         1.0       0.77      0.79      0.78      2957\n",
            "\n",
            "    accuracy                           0.78      6000\n",
            "   macro avg       0.78      0.78      0.78      6000\n",
            "weighted avg       0.78      0.78      0.78      6000\n",
            "\n"
          ]
        },
        {
          "data": {
            "image/png": "[encoded data removed]",
            "text/plain": [
              "<Figure size 640x480 with 1 Axes>"
            ]
          },
          "metadata": {},
          "output_type": "display_data"
        },
        {
          "data": {
            "text/plain": [
              "({'C': 0.046415888336127774}, None, None, None)"
            ]
          },
          "execution_count": 32,
          "metadata": {},
          "output_type": "execute_result"
        }
      ],
      "source": [
        "# Bag of Words\n",
        "logisticCV(bagofwords, hyperparas)"
      ]
    },
    {
      "cell_type": "code",
      "execution_count": 33,
      "metadata": {
        "colab": {
          "base_uri": "https://localhost:8080/"
        },
        "id": "wvDuWetlOJrm",
        "outputId": "3cfed405-e0e1-4b08-f445-8f5e9c506f60"
      },
      "outputs": [
        {
          "name": "stderr",
          "output_type": "stream",
          "text": [
            "/Users/jihyunkim/anaconda3/lib/python3.10/site-packages/sklearn/linear_model/_logistic.py:460: ConvergenceWarning: lbfgs failed to converge (status=1):\n",
            "STOP: TOTAL NO. of ITERATIONS REACHED LIMIT.\n",
            "\n",
            "Increase the number of iterations (max_iter) or scale the data as shown in:\n",
            "    https://scikit-learn.org/stable/modules/preprocessing.html\n",
            "Please also refer to the documentation for alternative solver options:\n",
            "    https://scikit-learn.org/stable/modules/linear_model.html#logistic-regression\n",
            "  n_iter_i = _check_optimize_result(\n",
            "/Users/jihyunkim/anaconda3/lib/python3.10/site-packages/sklearn/linear_model/_logistic.py:460: ConvergenceWarning: lbfgs failed to converge (status=1):\n",
            "STOP: TOTAL NO. of ITERATIONS REACHED LIMIT.\n",
            "\n",
            "Increase the number of iterations (max_iter) or scale the data as shown in:\n",
            "    https://scikit-learn.org/stable/modules/preprocessing.html\n",
            "Please also refer to the documentation for alternative solver options:\n",
            "    https://scikit-learn.org/stable/modules/linear_model.html#logistic-regression\n",
            "  n_iter_i = _check_optimize_result(\n",
            "/Users/jihyunkim/anaconda3/lib/python3.10/site-packages/sklearn/linear_model/_logistic.py:460: ConvergenceWarning: lbfgs failed to converge (status=1):\n",
            "STOP: TOTAL NO. of ITERATIONS REACHED LIMIT.\n",
            "\n",
            "Increase the number of iterations (max_iter) or scale the data as shown in:\n",
            "    https://scikit-learn.org/stable/modules/preprocessing.html\n",
            "Please also refer to the documentation for alternative solver options:\n",
            "    https://scikit-learn.org/stable/modules/linear_model.html#logistic-regression\n",
            "  n_iter_i = _check_optimize_result(\n",
            "/Users/jihyunkim/anaconda3/lib/python3.10/site-packages/sklearn/linear_model/_logistic.py:460: ConvergenceWarning: lbfgs failed to converge (status=1):\n",
            "STOP: TOTAL NO. of ITERATIONS REACHED LIMIT.\n",
            "\n",
            "Increase the number of iterations (max_iter) or scale the data as shown in:\n",
            "    https://scikit-learn.org/stable/modules/preprocessing.html\n",
            "Please also refer to the documentation for alternative solver options:\n",
            "    https://scikit-learn.org/stable/modules/linear_model.html#logistic-regression\n",
            "  n_iter_i = _check_optimize_result(\n",
            "/Users/jihyunkim/anaconda3/lib/python3.10/site-packages/sklearn/linear_model/_logistic.py:460: ConvergenceWarning: lbfgs failed to converge (status=1):\n",
            "STOP: TOTAL NO. of ITERATIONS REACHED LIMIT.\n",
            "\n",
            "Increase the number of iterations (max_iter) or scale the data as shown in:\n",
            "    https://scikit-learn.org/stable/modules/preprocessing.html\n",
            "Please also refer to the documentation for alternative solver options:\n",
            "    https://scikit-learn.org/stable/modules/linear_model.html#logistic-regression\n",
            "  n_iter_i = _check_optimize_result(\n",
            "/Users/jihyunkim/anaconda3/lib/python3.10/site-packages/sklearn/linear_model/_logistic.py:460: ConvergenceWarning: lbfgs failed to converge (status=1):\n",
            "STOP: TOTAL NO. of ITERATIONS REACHED LIMIT.\n",
            "\n",
            "Increase the number of iterations (max_iter) or scale the data as shown in:\n",
            "    https://scikit-learn.org/stable/modules/preprocessing.html\n",
            "Please also refer to the documentation for alternative solver options:\n",
            "    https://scikit-learn.org/stable/modules/linear_model.html#logistic-regression\n",
            "  n_iter_i = _check_optimize_result(\n",
            "/Users/jihyunkim/anaconda3/lib/python3.10/site-packages/sklearn/linear_model/_logistic.py:460: ConvergenceWarning: lbfgs failed to converge (status=1):\n",
            "STOP: TOTAL NO. of ITERATIONS REACHED LIMIT.\n",
            "\n",
            "Increase the number of iterations (max_iter) or scale the data as shown in:\n",
            "    https://scikit-learn.org/stable/modules/preprocessing.html\n",
            "Please also refer to the documentation for alternative solver options:\n",
            "    https://scikit-learn.org/stable/modules/linear_model.html#logistic-regression\n",
            "  n_iter_i = _check_optimize_result(\n",
            "/Users/jihyunkim/anaconda3/lib/python3.10/site-packages/sklearn/linear_model/_logistic.py:460: ConvergenceWarning: lbfgs failed to converge (status=1):\n",
            "STOP: TOTAL NO. of ITERATIONS REACHED LIMIT.\n",
            "\n",
            "Increase the number of iterations (max_iter) or scale the data as shown in:\n",
            "    https://scikit-learn.org/stable/modules/preprocessing.html\n",
            "Please also refer to the documentation for alternative solver options:\n",
            "    https://scikit-learn.org/stable/modules/linear_model.html#logistic-regression\n",
            "  n_iter_i = _check_optimize_result(\n",
            "/Users/jihyunkim/anaconda3/lib/python3.10/site-packages/sklearn/linear_model/_logistic.py:460: ConvergenceWarning: lbfgs failed to converge (status=1):\n",
            "STOP: TOTAL NO. of ITERATIONS REACHED LIMIT.\n",
            "\n",
            "Increase the number of iterations (max_iter) or scale the data as shown in:\n",
            "    https://scikit-learn.org/stable/modules/preprocessing.html\n",
            "Please also refer to the documentation for alternative solver options:\n",
            "    https://scikit-learn.org/stable/modules/linear_model.html#logistic-regression\n",
            "  n_iter_i = _check_optimize_result(\n",
            "/Users/jihyunkim/anaconda3/lib/python3.10/site-packages/sklearn/linear_model/_logistic.py:460: ConvergenceWarning: lbfgs failed to converge (status=1):\n",
            "STOP: TOTAL NO. of ITERATIONS REACHED LIMIT.\n",
            "\n",
            "Increase the number of iterations (max_iter) or scale the data as shown in:\n",
            "    https://scikit-learn.org/stable/modules/preprocessing.html\n",
            "Please also refer to the documentation for alternative solver options:\n",
            "    https://scikit-learn.org/stable/modules/linear_model.html#logistic-regression\n",
            "  n_iter_i = _check_optimize_result(\n"
          ]
        },
        {
          "name": "stdout",
          "output_type": "stream",
          "text": [
            "[[2514  529]\n",
            " [ 572 2385]]\n",
            "              precision    recall  f1-score   support\n",
            "\n",
            "         0.0       0.81      0.83      0.82      3043\n",
            "         1.0       0.82      0.81      0.81      2957\n",
            "\n",
            "    accuracy                           0.82      6000\n",
            "   macro avg       0.82      0.82      0.82      6000\n",
            "weighted avg       0.82      0.82      0.82      6000\n",
            "\n"
          ]
        },
        {
          "data": {
            "image/png": "[encoded data removed]",
            "text/plain": [
              "<Figure size 640x480 with 1 Axes>"
            ]
          },
          "metadata": {},
          "output_type": "display_data"
        },
        {
          "data": {
            "text/plain": [
              "({'C': 1.0}, None, None, None)"
            ]
          },
          "execution_count": 33,
          "metadata": {},
          "output_type": "execute_result"
        }
      ],
      "source": [
        "# TFIDF\n",
        "logisticCV(tfidf, hyperparas)"
      ]
    },
    {
      "cell_type": "code",
      "execution_count": 34,
      "metadata": {
        "colab": {
          "base_uri": "https://localhost:8080/"
        },
        "id": "LEvhlgVLOJt8",
        "outputId": "a415574f-d9dc-4049-9ec8-0c4295cb70df"
      },
      "outputs": [
        {
          "name": "stderr",
          "output_type": "stream",
          "text": [
            "/Users/jihyunkim/anaconda3/lib/python3.10/site-packages/sklearn/linear_model/_logistic.py:460: ConvergenceWarning: lbfgs failed to converge (status=1):\n",
            "STOP: TOTAL NO. of ITERATIONS REACHED LIMIT.\n",
            "\n",
            "Increase the number of iterations (max_iter) or scale the data as shown in:\n",
            "    https://scikit-learn.org/stable/modules/preprocessing.html\n",
            "Please also refer to the documentation for alternative solver options:\n",
            "    https://scikit-learn.org/stable/modules/linear_model.html#logistic-regression\n",
            "  n_iter_i = _check_optimize_result(\n",
            "/Users/jihyunkim/anaconda3/lib/python3.10/site-packages/sklearn/linear_model/_logistic.py:460: ConvergenceWarning: lbfgs failed to converge (status=1):\n",
            "STOP: TOTAL NO. of ITERATIONS REACHED LIMIT.\n",
            "\n",
            "Increase the number of iterations (max_iter) or scale the data as shown in:\n",
            "    https://scikit-learn.org/stable/modules/preprocessing.html\n",
            "Please also refer to the documentation for alternative solver options:\n",
            "    https://scikit-learn.org/stable/modules/linear_model.html#logistic-regression\n",
            "  n_iter_i = _check_optimize_result(\n",
            "/Users/jihyunkim/anaconda3/lib/python3.10/site-packages/sklearn/linear_model/_logistic.py:460: ConvergenceWarning: lbfgs failed to converge (status=1):\n",
            "STOP: TOTAL NO. of ITERATIONS REACHED LIMIT.\n",
            "\n",
            "Increase the number of iterations (max_iter) or scale the data as shown in:\n",
            "    https://scikit-learn.org/stable/modules/preprocessing.html\n",
            "Please also refer to the documentation for alternative solver options:\n",
            "    https://scikit-learn.org/stable/modules/linear_model.html#logistic-regression\n",
            "  n_iter_i = _check_optimize_result(\n"
          ]
        },
        {
          "name": "stdout",
          "output_type": "stream",
          "text": [
            "[[2484  559]\n",
            " [ 700 2257]]\n",
            "              precision    recall  f1-score   support\n",
            "\n",
            "         0.0       0.78      0.82      0.80      3043\n",
            "         1.0       0.80      0.76      0.78      2957\n",
            "\n",
            "    accuracy                           0.79      6000\n",
            "   macro avg       0.79      0.79      0.79      6000\n",
            "weighted avg       0.79      0.79      0.79      6000\n",
            "\n"
          ]
        },
        {
          "name": "stderr",
          "output_type": "stream",
          "text": [
            "/Users/jihyunkim/anaconda3/lib/python3.10/site-packages/sklearn/linear_model/_logistic.py:460: ConvergenceWarning: lbfgs failed to converge (status=1):\n",
            "STOP: TOTAL NO. of ITERATIONS REACHED LIMIT.\n",
            "\n",
            "Increase the number of iterations (max_iter) or scale the data as shown in:\n",
            "    https://scikit-learn.org/stable/modules/preprocessing.html\n",
            "Please also refer to the documentation for alternative solver options:\n",
            "    https://scikit-learn.org/stable/modules/linear_model.html#logistic-regression\n",
            "  n_iter_i = _check_optimize_result(\n"
          ]
        },
        {
          "data": {
            "image/png": "[encoded data removed]",
            "text/plain": [
              "<Figure size 640x480 with 1 Axes>"
            ]
          },
          "metadata": {},
          "output_type": "display_data"
        },
        {
          "data": {
            "text/plain": [
              "({'C': 100.0}, None, None, None)"
            ]
          },
          "execution_count": 34,
          "metadata": {},
          "output_type": "execute_result"
        }
      ],
      "source": [
        "# nGram\n",
        "logisticCV(ngram, hyperparas)"
      ]
    },
    {
      "cell_type": "markdown",
      "metadata": {
        "id": "vwH4-fkcRr4G"
      },
      "source": [
        "# Random Forest Classifier (With GridSearchCV)"
      ]
    },
    {
      "cell_type": "code",
      "execution_count": 35,
      "metadata": {
        "id": "u3uMfiroOJwC"
      },
      "outputs": [],
      "source": [
        "param_grid = {\n",
        "    'bootstrap': [True],\n",
        "    'max_features': ['auto', 'sqrt', 'log2'],\n",
        "    'n_estimators': [100, 200, 300]\n",
        "}\n",
        "\n",
        "def rfcCV(data, param):\n",
        "    x_train, x_test, y_train, y_test = train_test_split(data,\n",
        "                                                        new_reviews[\"sentiment\"],\n",
        "                                                        test_size=0.3, random_state=9)\n",
        "    rfc_cv = GridSearchCV(RandomForestClassifier(), param, cv= 2, refit=True)\n",
        "    rfc_cv.fit(x_train, y_train)\n",
        "    y_pred = rfc_cv.predict(x_test)\n",
        "\n",
        "    confusion = print(confusion_matrix(y_test, y_pred))\n",
        "    report = print(classification_report(y_test, y_pred))\n",
        "    bestparams = rfc_cv.best_params_\n",
        "\n",
        "    rfc_cv_auc_roc = roc_auc_score(y_test, y_pred)\n",
        "    fpr, tpr, thresholds = roc_curve(y_test, rfc_cv.predict_proba(x_test)[:,1])\n",
        "    plt.figure()\n",
        "    plt.plot(fpr, tpr, label='RFC CV (AUC = %0.2f)' % rfc_cv_auc_roc)\n",
        "    plt.plot([0, 1], [0, 1],'r--')\n",
        "    plt.xlabel('False Positive Rate')\n",
        "    plt.ylabel('True Positive Rate')\n",
        "    plt.title('ROC Curve')\n",
        "    plt.legend(loc=\"lower right\")\n",
        "\n",
        "\n",
        "    return bestparams, confusion, report, plt.show()"
      ]
    },
    {
      "cell_type": "code",
      "execution_count": 36,
      "metadata": {
        "colab": {
          "base_uri": "https://localhost:8080/",
          "height": 974
        },
        "id": "rwhZufOhR39B",
        "outputId": "97bb405c-a7dd-4b79-941c-cad2206733f6"
      },
      "outputs": [
        {
          "name": "stderr",
          "output_type": "stream",
          "text": [
            "/Users/jihyunkim/anaconda3/lib/python3.10/site-packages/sklearn/model_selection/_validation.py:425: FitFailedWarning: \n",
            "6 fits failed out of a total of 18.\n",
            "The score on these train-test partitions for these parameters will be set to nan.\n",
            "If these failures are not expected, you can try to debug them by setting error_score='raise'.\n",
            "\n",
            "Below are more details about the failures:\n",
            "--------------------------------------------------------------------------------\n",
            "6 fits failed with the following error:\n",
            "Traceback (most recent call last):\n",
            "  File \"/Users/jihyunkim/anaconda3/lib/python3.10/site-packages/sklearn/model_selection/_validation.py\", line 732, in _fit_and_score\n",
            "    estimator.fit(X_train, y_train, **fit_params)\n",
            "  File \"/Users/jihyunkim/anaconda3/lib/python3.10/site-packages/sklearn/base.py\", line 1144, in wrapper\n",
            "    estimator._validate_params()\n",
            "  File \"/Users/jihyunkim/anaconda3/lib/python3.10/site-packages/sklearn/base.py\", line 637, in _validate_params\n",
            "    validate_parameter_constraints(\n",
            "  File \"/Users/jihyunkim/anaconda3/lib/python3.10/site-packages/sklearn/utils/_param_validation.py\", line 95, in validate_parameter_constraints\n",
            "    raise InvalidParameterError(\n",
            "sklearn.utils._param_validation.InvalidParameterError: The 'max_features' parameter of RandomForestClassifier must be an int in the range [1, inf), a float in the range (0.0, 1.0], a str among {'sqrt', 'log2'} or None. Got 'auto' instead.\n",
            "\n",
            "  warnings.warn(some_fits_failed_message, FitFailedWarning)\n",
            "/Users/jihyunkim/anaconda3/lib/python3.10/site-packages/sklearn/model_selection/_search.py:976: UserWarning: One or more of the test scores are non-finite: [       nan        nan        nan 0.75757143 0.75985714 0.76292857\n",
            " 0.75928571 0.76764286 0.77392857]\n",
            "  warnings.warn(\n"
          ]
        },
        {
          "name": "stdout",
          "output_type": "stream",
          "text": [
            "[[2438  605]\n",
            " [ 681 2276]]\n",
            "              precision    recall  f1-score   support\n",
            "\n",
            "         0.0       0.78      0.80      0.79      3043\n",
            "         1.0       0.79      0.77      0.78      2957\n",
            "\n",
            "    accuracy                           0.79      6000\n",
            "   macro avg       0.79      0.79      0.79      6000\n",
            "weighted avg       0.79      0.79      0.79      6000\n",
            "\n"
          ]
        },
        {
          "data": {
            "image/png": "[encoded data removed]",
            "text/plain": [
              "<Figure size 640x480 with 1 Axes>"
            ]
          },
          "metadata": {},
          "output_type": "display_data"
        },
        {
          "data": {
            "text/plain": [
              "({'bootstrap': True, 'max_features': 'log2', 'n_estimators': 300},\n",
              " None,\n",
              " None,\n",
              " None)"
            ]
          },
          "execution_count": 36,
          "metadata": {},
          "output_type": "execute_result"
        }
      ],
      "source": [
        "# Bag of Words\n",
        "rfcCV(bagofwords, param_grid)"
      ]
    },
    {
      "cell_type": "code",
      "execution_count": 37,
      "metadata": {
        "colab": {
          "background_save": true,
          "base_uri": "https://localhost:8080/"
        },
        "id": "FeQC8mpER4F5",
        "outputId": "879982b2-d352-4197-ca79-9d8b0097cdfb"
      },
      "outputs": [
        {
          "name": "stderr",
          "output_type": "stream",
          "text": [
            "/Users/jihyunkim/anaconda3/lib/python3.10/site-packages/sklearn/model_selection/_validation.py:425: FitFailedWarning: \n",
            "6 fits failed out of a total of 18.\n",
            "The score on these train-test partitions for these parameters will be set to nan.\n",
            "If these failures are not expected, you can try to debug them by setting error_score='raise'.\n",
            "\n",
            "Below are more details about the failures:\n",
            "--------------------------------------------------------------------------------\n",
            "6 fits failed with the following error:\n",
            "Traceback (most recent call last):\n",
            "  File \"/Users/jihyunkim/anaconda3/lib/python3.10/site-packages/sklearn/model_selection/_validation.py\", line 732, in _fit_and_score\n",
            "    estimator.fit(X_train, y_train, **fit_params)\n",
            "  File \"/Users/jihyunkim/anaconda3/lib/python3.10/site-packages/sklearn/base.py\", line 1144, in wrapper\n",
            "    estimator._validate_params()\n",
            "  File \"/Users/jihyunkim/anaconda3/lib/python3.10/site-packages/sklearn/base.py\", line 637, in _validate_params\n",
            "    validate_parameter_constraints(\n",
            "  File \"/Users/jihyunkim/anaconda3/lib/python3.10/site-packages/sklearn/utils/_param_validation.py\", line 95, in validate_parameter_constraints\n",
            "    raise InvalidParameterError(\n",
            "sklearn.utils._param_validation.InvalidParameterError: The 'max_features' parameter of RandomForestClassifier must be an int in the range [1, inf), a float in the range (0.0, 1.0], a str among {'sqrt', 'log2'} or None. Got 'auto' instead.\n",
            "\n",
            "  warnings.warn(some_fits_failed_message, FitFailedWarning)\n",
            "/Users/jihyunkim/anaconda3/lib/python3.10/site-packages/sklearn/model_selection/_search.py:976: UserWarning: One or more of the test scores are non-finite: [       nan        nan        nan 0.783      0.79042857 0.79357143\n",
            " 0.7695     0.7845     0.79028571]\n",
            "  warnings.warn(\n"
          ]
        },
        {
          "name": "stdout",
          "output_type": "stream",
          "text": [
            "[[2525  518]\n",
            " [ 628 2329]]\n",
            "              precision    recall  f1-score   support\n",
            "\n",
            "         0.0       0.80      0.83      0.82      3043\n",
            "         1.0       0.82      0.79      0.80      2957\n",
            "\n",
            "    accuracy                           0.81      6000\n",
            "   macro avg       0.81      0.81      0.81      6000\n",
            "weighted avg       0.81      0.81      0.81      6000\n",
            "\n"
          ]
        },
        {
          "data": {
            "image/png": "[encoded data removed]",
            "text/plain": [
              "<Figure size 640x480 with 1 Axes>"
            ]
          },
          "metadata": {},
          "output_type": "display_data"
        },
        {
          "data": {
            "text/plain": [
              "({'bootstrap': True, 'max_features': 'sqrt', 'n_estimators': 300},\n",
              " None,\n",
              " None,\n",
              " None)"
            ]
          },
          "execution_count": 37,
          "metadata": {},
          "output_type": "execute_result"
        }
      ],
      "source": [
        "# TFIDF\n",
        "rfcCV(tfidf, param_grid)"
      ]
    },
    {
      "cell_type": "code",
      "execution_count": 38,
      "metadata": {
        "colab": {
          "background_save": true
        },
        "id": "Y6VCB4X6R4H6"
      },
      "outputs": [
        {
          "name": "stderr",
          "output_type": "stream",
          "text": [
            "/Users/jihyunkim/anaconda3/lib/python3.10/site-packages/sklearn/model_selection/_validation.py:425: FitFailedWarning: \n",
            "6 fits failed out of a total of 18.\n",
            "The score on these train-test partitions for these parameters will be set to nan.\n",
            "If these failures are not expected, you can try to debug them by setting error_score='raise'.\n",
            "\n",
            "Below are more details about the failures:\n",
            "--------------------------------------------------------------------------------\n",
            "6 fits failed with the following error:\n",
            "Traceback (most recent call last):\n",
            "  File \"/Users/jihyunkim/anaconda3/lib/python3.10/site-packages/sklearn/model_selection/_validation.py\", line 732, in _fit_and_score\n",
            "    estimator.fit(X_train, y_train, **fit_params)\n",
            "  File \"/Users/jihyunkim/anaconda3/lib/python3.10/site-packages/sklearn/base.py\", line 1144, in wrapper\n",
            "    estimator._validate_params()\n",
            "  File \"/Users/jihyunkim/anaconda3/lib/python3.10/site-packages/sklearn/base.py\", line 637, in _validate_params\n",
            "    validate_parameter_constraints(\n",
            "  File \"/Users/jihyunkim/anaconda3/lib/python3.10/site-packages/sklearn/utils/_param_validation.py\", line 95, in validate_parameter_constraints\n",
            "    raise InvalidParameterError(\n",
            "sklearn.utils._param_validation.InvalidParameterError: The 'max_features' parameter of RandomForestClassifier must be an int in the range [1, inf), a float in the range (0.0, 1.0], a str among {'sqrt', 'log2'} or None. Got 'auto' instead.\n",
            "\n",
            "  warnings.warn(some_fits_failed_message, FitFailedWarning)\n",
            "/Users/jihyunkim/anaconda3/lib/python3.10/site-packages/sklearn/model_selection/_search.py:976: UserWarning: One or more of the test scores are non-finite: [       nan        nan        nan 0.71042857 0.71285714 0.71471429\n",
            " 0.632      0.634      0.63428571]\n",
            "  warnings.warn(\n"
          ]
        },
        {
          "name": "stdout",
          "output_type": "stream",
          "text": [
            "[[2616  427]\n",
            " [1105 1852]]\n",
            "              precision    recall  f1-score   support\n",
            "\n",
            "         0.0       0.70      0.86      0.77      3043\n",
            "         1.0       0.81      0.63      0.71      2957\n",
            "\n",
            "    accuracy                           0.74      6000\n",
            "   macro avg       0.76      0.74      0.74      6000\n",
            "weighted avg       0.76      0.74      0.74      6000\n",
            "\n"
          ]
        },
        {
          "data": {
            "image/png": "[encoded data removed]",
            "text/plain": [
              "<Figure size 640x480 with 1 Axes>"
            ]
          },
          "metadata": {},
          "output_type": "display_data"
        },
        {
          "data": {
            "text/plain": [
              "({'bootstrap': True, 'max_features': 'sqrt', 'n_estimators': 300},\n",
              " None,\n",
              " None,\n",
              " None)"
            ]
          },
          "execution_count": 38,
          "metadata": {},
          "output_type": "execute_result"
        }
      ],
      "source": [
        "# nGram\n",
        "rfcCV(ngram, param_grid)"
      ]
    },
    {
      "cell_type": "markdown",
      "metadata": {
        "id": "HsgHVfMfSTPp"
      },
      "source": [
        "# Support Vector Machines (With GridSearchCV)"
      ]
    },
    {
      "cell_type": "code",
      "execution_count": 39,
      "metadata": {
        "id": "hz75tmajR4Kg"
      },
      "outputs": [],
      "source": [
        "param_grid = {'C': [0.1, 1, 10],\n",
        "              'gamma': [1, 0.1, 0.01],\n",
        "              'kernel': ['rbf']}\n",
        "\n",
        "def svcCV(data, param):\n",
        "    x_train, x_test, y_train, y_test = train_test_split(data,\n",
        "                                                        new_reviews[\"sentiment\"],\n",
        "                                                        test_size=0.3, random_state=9)\n",
        "\n",
        "    svc_cv = GridSearchCV(SVC(probability=True), param, cv=2, refit=True)\n",
        "    svc_cv.fit(x_train, y_train)\n",
        "    y_pred = svc_cv.predict(x_test)\n",
        "\n",
        "    confusion = print(confusion_matrix(y_test, y_pred))\n",
        "    report = print(classification_report(y_test, y_pred))\n",
        "    bestparams = svc_cv.best_params_\n",
        "\n",
        "    svc_cv_auc_roc = roc_auc_score(y_test, y_pred)\n",
        "    fpr, tpr, thresholds = roc_curve(y_test, svc_cv.predict_proba(x_test)[:,1])\n",
        "    plt.figure()\n",
        "    plt.plot(fpr, tpr, label='SVM CV(AUC = %0.2f)' % svc_cv_auc_roc)\n",
        "    plt.plot([0, 1], [0, 1],'r--')\n",
        "    plt.xlabel('False Positive Rate')\n",
        "    plt.ylabel('True Positive Rate')\n",
        "    plt.title('ROC Curve')\n",
        "    plt.legend(loc=\"lower right\")\n",
        "\n",
        "\n",
        "    return bestparams, confusion, report, plt.show()"
      ]
    },
    {
      "cell_type": "code",
      "execution_count": 40,
      "metadata": {
        "id": "s_WqgS_1SjMs"
      },
      "outputs": [
        {
          "name": "stdout",
          "output_type": "stream",
          "text": [
            "[[2408  635]\n",
            " [ 624 2333]]\n",
            "              precision    recall  f1-score   support\n",
            "\n",
            "         0.0       0.79      0.79      0.79      3043\n",
            "         1.0       0.79      0.79      0.79      2957\n",
            "\n",
            "    accuracy                           0.79      6000\n",
            "   macro avg       0.79      0.79      0.79      6000\n",
            "weighted avg       0.79      0.79      0.79      6000\n",
            "\n"
          ]
        },
        {
          "data": {
            "image/png": "[encoded data removed]",
            "text/plain": [
              "<Figure size 640x480 with 1 Axes>"
            ]
          },
          "metadata": {},
          "output_type": "display_data"
        },
        {
          "data": {
            "text/plain": [
              "({'C': 10, 'gamma': 0.01, 'kernel': 'rbf'}, None, None, None)"
            ]
          },
          "execution_count": 40,
          "metadata": {},
          "output_type": "execute_result"
        }
      ],
      "source": [
        "# Bag of Words\n",
        "svcCV(bagofwords, param_grid)"
      ]
    },
    {
      "cell_type": "code",
      "execution_count": 41,
      "metadata": {
        "id": "mLuA0koHSjPA"
      },
      "outputs": [
        {
          "name": "stdout",
          "output_type": "stream",
          "text": [
            "[[2531  512]\n",
            " [ 564 2393]]\n",
            "              precision    recall  f1-score   support\n",
            "\n",
            "         0.0       0.82      0.83      0.82      3043\n",
            "         1.0       0.82      0.81      0.82      2957\n",
            "\n",
            "    accuracy                           0.82      6000\n",
            "   macro avg       0.82      0.82      0.82      6000\n",
            "weighted avg       0.82      0.82      0.82      6000\n",
            "\n"
          ]
        },
        {
          "data": {
            "image/png": "[encoded data removed]",
            "text/plain": [
              "<Figure size 640x480 with 1 Axes>"
            ]
          },
          "metadata": {},
          "output_type": "display_data"
        },
        {
          "data": {
            "text/plain": [
              "({'C': 1, 'gamma': 1, 'kernel': 'rbf'}, None, None, None)"
            ]
          },
          "execution_count": 41,
          "metadata": {},
          "output_type": "execute_result"
        }
      ],
      "source": [
        "# TFIDF\n",
        "svcCV(tfidf, param_grid)"
      ]
    },
    {
      "cell_type": "code",
      "execution_count": 42,
      "metadata": {
        "id": "Zf0ky7f_SjRV"
      },
      "outputs": [
        {
          "name": "stdout",
          "output_type": "stream",
          "text": [
            "[[2441  602]\n",
            " [ 664 2293]]\n",
            "              precision    recall  f1-score   support\n",
            "\n",
            "         0.0       0.79      0.80      0.79      3043\n",
            "         1.0       0.79      0.78      0.78      2957\n",
            "\n",
            "    accuracy                           0.79      6000\n",
            "   macro avg       0.79      0.79      0.79      6000\n",
            "weighted avg       0.79      0.79      0.79      6000\n",
            "\n"
          ]
        },
        {
          "data": {
            "image/png": "[encoded data removed]",
            "text/plain": [
              "<Figure size 640x480 with 1 Axes>"
            ]
          },
          "metadata": {},
          "output_type": "display_data"
        },
        {
          "data": {
            "text/plain": [
              "({'C': 10, 'gamma': 0.1, 'kernel': 'rbf'}, None, None, None)"
            ]
          },
          "execution_count": 42,
          "metadata": {},
          "output_type": "execute_result"
        }
      ],
      "source": [
        "# nGram\n",
        "svcCV(ngram, param_grid)"
      ]
    }
  ],
  "metadata": {
    "colab": {
      "provenance": []
    },
    "kernelspec": {
      "display_name": "Python 3",
      "name": "python3"
    },
    "language_info": {
      "codemirror_mode": {
        "name": "ipython",
        "version": 3
      },
      "file_extension": ".py",
      "mimetype": "text/x-python",
      "name": "python",
      "nbconvert_exporter": "python",
      "pygments_lexer": "ipython3",
      "version": "3.10.9"
    }
  },
  "nbformat": 4,
  "nbformat_minor": 0
}
